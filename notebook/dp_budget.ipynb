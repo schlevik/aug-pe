{
 "cells": [
  {
   "cell_type": "code",
   "execution_count": 1,
   "metadata": {},
   "outputs": [],
   "source": [
    "import scipy\n",
    "import numpy as np\n",
    "import math\n",
    "def delta_Gaussian(eps, mu):\n",
    "\n",
    "   \"\"\"Compute delta of Gaussian mechanism with shift mu or equivalently noise scale 1/mu\"\"\"\n",
    "\n",
    "   if mu==0:\n",
    "\n",
    "       return 0\n",
    "\n",
    "   return scipy.stats.norm.cdf(-eps / mu + mu / 2) - np.exp(eps) * scipy.stats.norm.cdf(-eps / mu - mu / 2)\n",
    "\n",
    " \n",
    "\n",
    "def eps_Gaussian(delta, mu):\n",
    "\n",
    "   \"\"\"Compute eps of Gaussian mechanism with shift mu or equivalently noise scale 1/mu\"\"\"\n",
    "\n",
    "   def f(x):\n",
    "\n",
    "       return delta_Gaussian(x, mu) - delta\n",
    "\n",
    "   return scipy.optimize.root_scalar(f, bracket=[0, 500], method='brentq').root\n",
    "\n",
    " \n",
    "\n",
    "def compute_epsilon(noise_multiplier, num_steps, delta):\n",
    "\n",
    "   return eps_Gaussian(delta, np.sqrt(num_steps) / noise_multiplier)\n"
   ]
  },
  {
   "cell_type": "code",
   "execution_count": 2,
   "metadata": {},
   "outputs": [
    {
     "name": "stdout",
     "output_type": "stream",
     "text": [
      "threshold eps 1 break_noise 15.399999999999281 eps 1.000309\n",
      "threshold eps 2 break_noise 8.029999999998129 eps 2.002377\n",
      "threshold eps 4 break_noise 4.239999999997536 eps 4.005258\n"
     ]
    }
   ],
   "source": [
    "\n",
    "N=1939290 # yelp\n",
    "delta= 1/(N*math.log(N))\n",
    "epoch=10\n",
    "\n",
    "break_noise=0\n",
    "for eps in [1,2,4]:\n",
    "    for noise in np.arange(20,1, -0.01):\n",
    "        compute_epsilon(noise, epoch, delta)\n",
    "        if compute_epsilon(noise, epoch, delta)>eps:\n",
    "            break_noise=noise\n",
    "            break\n",
    "    print(\"threshold eps\", eps, \"break_noise\", break_noise, f\"eps {compute_epsilon(noise, epoch, delta):4f}\")"
   ]
  },
  {
   "cell_type": "code",
   "execution_count": 3,
   "metadata": {},
   "outputs": [
    {
     "name": "stdout",
     "output_type": "stream",
     "text": [
      "noise 15.34 N 1939290, delta   0.000000,  eps 1.004455\n",
      "********\n",
      "noise 8.03 N 1939290, delta   0.000000,  eps 2.002377\n",
      "********\n",
      "noise 4.24 N 1939290, delta   0.000000,  eps 4.005258\n",
      "********\n"
     ]
    }
   ],
   "source": [
    "import math\n",
    "\n",
    "epoch=10\n",
    "for noise in [15.34, 8.03, 4.24]:\n",
    "    for N in [1939290]:\n",
    "        delta= 1/(N*math.log(N))\n",
    "        print( f\"noise {noise} N {N}, delta {delta:10f},  eps {compute_epsilon(noise, epoch, delta):4f}\" )\n",
    "    print(\"********\")"
   ]
  },
  {
   "cell_type": "code",
   "execution_count": 4,
   "metadata": {},
   "outputs": [
    {
     "name": "stdout",
     "output_type": "stream",
     "text": [
      "threshold eps 1 break_noise 11.589999999998685 eps 1.000936\n",
      "threshold eps 2 break_noise 6.209999999997844 eps 2.000256\n",
      "threshold eps 4 break_noise 3.3699999999974004 eps 4.005924\n"
     ]
    }
   ],
   "source": [
    "\n",
    "N=8396 # iclr\n",
    "delta= 1/(N*math.log(N))\n",
    "epoch=10\n",
    "\n",
    "break_noise=0\n",
    "for eps in [1,2,4]:\n",
    "    for noise in np.arange(20,1, -0.01):\n",
    "        compute_epsilon(noise, epoch, delta)\n",
    "        if compute_epsilon(noise, epoch, delta)>eps:\n",
    "            break_noise=noise\n",
    "            break\n",
    "    print(\"threshold eps\", eps, \"break_noise\", break_noise, f\"eps {compute_epsilon(noise, epoch, delta):4f}\")"
   ]
  },
  {
   "cell_type": "code",
   "execution_count": 5,
   "metadata": {},
   "outputs": [
    {
     "name": "stdout",
     "output_type": "stream",
     "text": [
      "noise 11.6 N 8396, delta 0.000013,  eps 0.999986\n",
      "********\n",
      "noise 6.22 N 8396, delta 0.000013,  eps 1.996654\n",
      "********\n",
      "noise 3.38 N 8396, delta 0.000013,  eps 3.992231\n",
      "********\n"
     ]
    }
   ],
   "source": [
    "import math\n",
    "\n",
    "epoch=10\n",
    "for noise in [11.60, 6.22, 3.38]:\n",
    "    for N in [8396]:\n",
    "        delta= 1/(N*math.log(N))\n",
    "        print( f\"noise {noise} N {N}, delta {delta:5f},  eps {compute_epsilon(noise, epoch, delta):4f}\" )\n",
    "    print(\"********\")"
   ]
  },
  {
   "cell_type": "code",
   "execution_count": 6,
   "metadata": {},
   "outputs": [
    {
     "name": "stdout",
     "output_type": "stream",
     "text": [
      "threshold eps 1 break_noise 13.249999999998945 eps 1.000046\n",
      "threshold eps 2 break_noise 6.999999999997968 eps 2.000318\n",
      "threshold eps 4 break_noise 3.7399999999974582 eps 4.011225\n"
     ]
    }
   ],
   "source": [
    "\n",
    "N=75316 # pubmed\n",
    "delta= 1/(N*math.log(N))\n",
    "epoch=10\n",
    "\n",
    "break_noise=0\n",
    "for eps in [1,2,4]:\n",
    "    for noise in np.arange(20,1, -0.01):\n",
    "        compute_epsilon(noise, epoch, delta)\n",
    "        if compute_epsilon(noise, epoch, delta)>eps:\n",
    "            break_noise=noise\n",
    "            break\n",
    "    print(\"threshold eps\", eps, \"break_noise\", break_noise, f\"eps {compute_epsilon(noise, epoch, delta):4f}\")"
   ]
  },
  {
   "cell_type": "code",
   "execution_count": 7,
   "metadata": {},
   "outputs": [
    {
     "name": "stdout",
     "output_type": "stream",
     "text": [
      "noise 13.26 N 75316, delta 0.000001,  eps 0.999232\n",
      "********\n",
      "noise 7.01 N 75316, delta 0.000001,  eps 1.997191\n",
      "********\n",
      "noise 3.75 N 75316, delta 0.000001,  eps 3.999169\n",
      "********\n"
     ]
    }
   ],
   "source": [
    "import math\n",
    "\n",
    "epoch=10\n",
    "for noise in [13.26, 7.01, 3.75]:\n",
    "    for N in [75316]:\n",
    "        delta= 1/(N*math.log(N))\n",
    "        print( f\"noise {noise} N {N}, delta {delta:5f},  eps {compute_epsilon(noise, epoch, delta):4f}\" )\n",
    "    print(\"********\")"
   ]
  },
  {
   "cell_type": "code",
   "execution_count": null,
   "metadata": {},
   "outputs": [],
   "source": [
    "N=10301 # HoC\n",
    "delta= 1/(N*math.log(N))\n",
    "epoch=10\n",
    "\n",
    "break_noise=0\n",
    "for eps in [0.5, 1,2,4]:\n",
    "    for noise in np.arange(40,1, -0.01):\n",
    "        compute_epsilon(noise, epoch, delta)\n",
    "        if compute_epsilon(noise, epoch, delta)>eps:\n",
    "            break_noise=noise\n",
    "            break\n",
    "    print(\"threshold eps\", eps, \"break_noise\", break_noise, f\"eps {compute_epsilon(noise, epoch, delta):4f}\")"
   ]
  },
  {
   "cell_type": "code",
   "execution_count": null,
   "metadata": {},
   "outputs": [],
   "source": [
    "import math\n",
    "\n",
    "epoch=10\n",
    "for noise in [13.26, 7.01, 3.75]:\n",
    "    for N in [10301]:\n",
    "        delta= 1/(N*math.log(N))\n",
    "        print( f\"noise {noise} N {N}, delta {delta:5f},  eps {compute_epsilon(noise, epoch, delta):4f}\" )\n",
    "    print(\"********\")"
   ]
  },
  {
   "cell_type": "code",
   "execution_count": 2,
   "metadata": {},
   "outputs": [
    {
     "name": "stdout",
     "output_type": "stream",
     "text": [
      "threshold eps 0.5 break_noise 20.980000000003784 eps 0.500092\n",
      "threshold eps 1 break_noise 11.190000000005732 eps 1.000600\n",
      "threshold eps 2 break_noise 6.010000000006762 eps 2.003046\n",
      "threshold eps 4 break_noise 3.2800000000073055 eps 4.004656\n"
     ]
    }
   ],
   "source": [
    "N=5102.0 # psytar\n",
    "delta= 1/(N*math.log(N))\n",
    "epoch=10\n",
    "\n",
    "break_noise=0\n",
    "for eps in [0.5, 1,2,4]:\n",
    "    for noise in np.arange(40,1, -0.01):\n",
    "        compute_epsilon(noise, epoch, delta)\n",
    "        if compute_epsilon(noise, epoch, delta)>eps:\n",
    "            break_noise=noise\n",
    "            break\n",
    "    print(\"threshold eps\", eps, \"break_noise\", break_noise, f\"eps {compute_epsilon(noise, epoch, delta):4f}\")"
   ]
  },
  {
   "cell_type": "code",
   "execution_count": 35,
   "metadata": {},
   "outputs": [
    {
     "name": "stdout",
     "output_type": "stream",
     "text": [
      "threshold eps 0.5 break_noise 23.87000000000321 eps 0.500107\n",
      "threshold eps 1 break_noise 12.580000000005455 eps 1.000450\n",
      "threshold eps 2 break_noise 6.680000000006629 eps 2.000630\n",
      "threshold eps 4 break_noise 3.590000000007244 eps 4.009665\n"
     ]
    }
   ],
   "source": [
    "N=30168.0 # psytar\n",
    "delta= 1/(N*math.log(N))\n",
    "epoch=10\n",
    "\n",
    "break_noise=0\n",
    "for eps in [0.5, 1,2,4]:\n",
    "    for noise in np.arange(40,1, -0.01):\n",
    "        compute_epsilon(noise, epoch, delta)\n",
    "        if compute_epsilon(noise, epoch, delta)>eps:\n",
    "            break_noise=noise\n",
    "            break\n",
    "    print(\"threshold eps\", eps, \"break_noise\", break_noise, f\"eps {compute_epsilon(noise, epoch, delta):4f}\")"
   ]
  },
  {
   "cell_type": "code",
   "execution_count": 16,
   "metadata": {},
   "outputs": [],
   "source": [
    "from transformers import AutoModelForCausalLM, AutoTokenizer\n",
    "t = AutoTokenizer.from_pretrained('meta-llama/Llama-3.2-1B-Instruct')\n",
    "m = AutoModelForCausalLM.from_pretrained('meta-llama/Llama-3.2-1B-Instruct')"
   ]
  },
  {
   "cell_type": "code",
   "execution_count": 32,
   "metadata": {},
   "outputs": [
    {
     "name": "stderr",
     "output_type": "stream",
     "text": [
      "The attention mask and the pad token id were not set. As a consequence, you may observe unexpected behavior. Please pass your input's `attention_mask` to obtain reliable results.\n",
      "Setting `pad_token_id` to `eos_token_id`:128001 for open-end generation.\n",
      "The attention mask and the pad token id were not set. As a consequence, you may observe unexpected behavior. Please pass your input's `attention_mask` to obtain reliable results.\n",
      "Setting `pad_token_id` to `eos_token_id`:128001 for open-end generation.\n"
     ]
    }
   ],
   "source": [
    "token_ids = t.apply_chat_template(\n",
    "    conversation=[{\"role\": \"system\", \"content\": \"Bla bla test\"},\n",
    "    {\"role\": \"user\", \"content\": \"Can you rephrase the word 'cake'?\"},\n",
    "    {\"role\": \"assistant\", \"content\": \"Here is a rephrased version of the word 'cake':\"}],\n",
    "    tokenize=True,\n",
    "    return_tensors='pt'\n",
    ")\n",
    "\n",
    "res = m.generate(token_ids[:, :-1], max_new_tokens=64)\n",
    "\n",
    "res2 = m.generate(token_ids[:, :], max_new_tokens=64)"
   ]
  },
  {
   "cell_type": "code",
   "execution_count": 34,
   "metadata": {},
   "outputs": [
    {
     "name": "stdout",
     "output_type": "stream",
     "text": [
      "<|begin_of_text|><|start_header_id|>system<|end_header_id|>\n",
      "\n",
      "Cutting Knowledge Date: December 2023\n",
      "Today Date: 26 Jul 2024\n",
      "\n",
      "Bla bla test<|eot_id|><|start_header_id|>user<|end_header_id|>\n",
      "\n",
      "Can you rephrase the word 'cake'?<|eot_id|><|start_header_id|>assistant<|end_header_id|>\n",
      "\n",
      "Here is a rephrased version of the word 'cake': \n",
      "\n",
      "- Birthday treat\n",
      "- Dessert\n",
      "- Sweet\n",
      "- Pastry<|eot_id|>\n",
      "----------------------------------------------------------------------------------------------------------------------------------------------------------------\n",
      "<|begin_of_text|><|start_header_id|>system<|end_header_id|>\n",
      "\n",
      "Cutting Knowledge Date: December 2023\n",
      "Today Date: 26 Jul 2024\n",
      "\n",
      "Bla bla test<|eot_id|><|start_header_id|>user<|end_header_id|>\n",
      "\n",
      "Can you rephrase the word 'cake'?<|eot_id|><|start_header_id|>assistant<|end_header_id|>\n",
      "\n",
      "Here is a rephrased version of the word 'cake':<|eot_id|><|start_header_id|>assistant<|end_header_id|>\n",
      "\n",
      "\"Bread dessert sweet treat\"<|eot_id|>\n"
     ]
    }
   ],
   "source": [
    "print(t.decode(res[0]))\n",
    "print('----'*40)\n",
    "print(t.decode(res2[0]))"
   ]
  }
 ],
 "metadata": {
  "kernelspec": {
   "display_name": "llm",
   "language": "python",
   "name": "python3"
  },
  "language_info": {
   "codemirror_mode": {
    "name": "ipython",
    "version": 3
   },
   "file_extension": ".py",
   "mimetype": "text/x-python",
   "name": "python",
   "nbconvert_exporter": "python",
   "pygments_lexer": "ipython3",
   "version": "3.10.14"
  },
  "orig_nbformat": 4
 },
 "nbformat": 4,
 "nbformat_minor": 2
}
